{
 "cells": [
  {
   "cell_type": "code",
   "execution_count": 1,
   "metadata": {},
   "outputs": [],
   "source": [
    "import mido\n",
    "mido.set_backend('mido.backends.rtmidi')\n",
    "\n",
    "from ipythonblocks import BlockGrid\n",
    "from IPython.display import clear_output"
   ]
  },
  {
   "cell_type": "code",
   "execution_count": 2,
   "metadata": {},
   "outputs": [],
   "source": [
    "color = {\"APAG\" :12,\n",
    "         \"rojo\" :13,\n",
    "         \"ROJO\" :15,\n",
    "         \"amba\" :29,\n",
    "         \"AMBA\" :63,\n",
    "         \"amar\" :62,\n",
    "         \"verd\" :28,\n",
    "         \"VERD\" :60,\n",
    "         \"froj\" :11,\n",
    "         \"famb\" :59,\n",
    "         \"fama\" :58,\n",
    "         \"fver\" :56}\n",
    "\n",
    "nota = {\"enc\" :127, \"apa\" :0}"
   ]
  },
  {
   "cell_type": "code",
   "execution_count": 3,
   "metadata": {},
   "outputs": [
    {
     "data": {
      "text/plain": [
       "15"
      ]
     },
     "execution_count": 3,
     "metadata": {},
     "output_type": "execute_result"
    }
   ],
   "source": [
    "color[\"ROJO\"]"
   ]
  },
  {
   "cell_type": "code",
   "execution_count": 4,
   "metadata": {},
   "outputs": [],
   "source": [
    "def enc_boton(nota, colo):\n",
    "    mensaje = mido.Message.from_bytes([144, nota, colo])\n",
    "    outport.send(mensaje)\n",
    "\n",
    "apa_boton = lambda nota: enc_boton(nota, color[\"APAG\"])"
   ]
  },
  {
   "cell_type": "code",
   "execution_count": 11,
   "metadata": {},
   "outputs": [
    {
     "data": {
      "text/html": [
       "<style type=\"text/css\">table.blockgrid {border: none;} .blockgrid tr {border: none;} .blockgrid td {padding: 0px;} #blocks4ce74e2b-067c-4ce0-8036-63d124aaeaee td {border: 1px solid white;}</style><table id=\"blocks4ce74e2b-067c-4ce0-8036-63d124aaeaee\" class=\"blockgrid\"><tbody><tr><td title=\"Index: [0, 0]&#10;Color: (255, 255, 255)\" style=\"width: 30px; height: 30px;background-color: rgb(255, 255, 255);\"></td><td title=\"Index: [0, 1]&#10;Color: (255, 255, 255)\" style=\"width: 30px; height: 30px;background-color: rgb(255, 255, 255);\"></td><td title=\"Index: [0, 2]&#10;Color: (255, 255, 255)\" style=\"width: 30px; height: 30px;background-color: rgb(255, 255, 255);\"></td><td title=\"Index: [0, 3]&#10;Color: (255, 255, 255)\" style=\"width: 30px; height: 30px;background-color: rgb(255, 255, 255);\"></td><td title=\"Index: [0, 4]&#10;Color: (255, 255, 255)\" style=\"width: 30px; height: 30px;background-color: rgb(255, 255, 255);\"></td><td title=\"Index: [0, 5]&#10;Color: (255, 255, 255)\" style=\"width: 30px; height: 30px;background-color: rgb(255, 255, 255);\"></td><td title=\"Index: [0, 6]&#10;Color: (255, 255, 255)\" style=\"width: 30px; height: 30px;background-color: rgb(255, 255, 255);\"></td><td title=\"Index: [0, 7]&#10;Color: (255, 255, 255)\" style=\"width: 30px; height: 30px;background-color: rgb(255, 255, 255);\"></td></tr><tr><td title=\"Index: [1, 0]&#10;Color: (255, 255, 255)\" style=\"width: 30px; height: 30px;background-color: rgb(255, 255, 255);\"></td><td title=\"Index: [1, 1]&#10;Color: (255, 255, 255)\" style=\"width: 30px; height: 30px;background-color: rgb(255, 255, 255);\"></td><td title=\"Index: [1, 2]&#10;Color: (255, 255, 255)\" style=\"width: 30px; height: 30px;background-color: rgb(255, 255, 255);\"></td><td title=\"Index: [1, 3]&#10;Color: (255, 255, 255)\" style=\"width: 30px; height: 30px;background-color: rgb(255, 255, 255);\"></td><td title=\"Index: [1, 4]&#10;Color: (255, 255, 255)\" style=\"width: 30px; height: 30px;background-color: rgb(255, 255, 255);\"></td><td title=\"Index: [1, 5]&#10;Color: (255, 255, 255)\" style=\"width: 30px; height: 30px;background-color: rgb(255, 255, 255);\"></td><td title=\"Index: [1, 6]&#10;Color: (255, 255, 255)\" style=\"width: 30px; height: 30px;background-color: rgb(255, 255, 255);\"></td><td title=\"Index: [1, 7]&#10;Color: (255, 255, 255)\" style=\"width: 30px; height: 30px;background-color: rgb(255, 255, 255);\"></td></tr><tr><td title=\"Index: [2, 0]&#10;Color: (255, 255, 255)\" style=\"width: 30px; height: 30px;background-color: rgb(255, 255, 255);\"></td><td title=\"Index: [2, 1]&#10;Color: (255, 255, 255)\" style=\"width: 30px; height: 30px;background-color: rgb(255, 255, 255);\"></td><td title=\"Index: [2, 2]&#10;Color: (255, 255, 255)\" style=\"width: 30px; height: 30px;background-color: rgb(255, 255, 255);\"></td><td title=\"Index: [2, 3]&#10;Color: (255, 255, 255)\" style=\"width: 30px; height: 30px;background-color: rgb(255, 255, 255);\"></td><td title=\"Index: [2, 4]&#10;Color: (255, 255, 255)\" style=\"width: 30px; height: 30px;background-color: rgb(255, 255, 255);\"></td><td title=\"Index: [2, 5]&#10;Color: (255, 255, 255)\" style=\"width: 30px; height: 30px;background-color: rgb(255, 255, 255);\"></td><td title=\"Index: [2, 6]&#10;Color: (255, 255, 255)\" style=\"width: 30px; height: 30px;background-color: rgb(255, 255, 255);\"></td><td title=\"Index: [2, 7]&#10;Color: (255, 255, 255)\" style=\"width: 30px; height: 30px;background-color: rgb(255, 255, 255);\"></td></tr><tr><td title=\"Index: [3, 0]&#10;Color: (255, 255, 255)\" style=\"width: 30px; height: 30px;background-color: rgb(255, 255, 255);\"></td><td title=\"Index: [3, 1]&#10;Color: (255, 255, 255)\" style=\"width: 30px; height: 30px;background-color: rgb(255, 255, 255);\"></td><td title=\"Index: [3, 2]&#10;Color: (255, 255, 255)\" style=\"width: 30px; height: 30px;background-color: rgb(255, 255, 255);\"></td><td title=\"Index: [3, 3]&#10;Color: (255, 255, 255)\" style=\"width: 30px; height: 30px;background-color: rgb(255, 255, 255);\"></td><td title=\"Index: [3, 4]&#10;Color: (255, 255, 255)\" style=\"width: 30px; height: 30px;background-color: rgb(255, 255, 255);\"></td><td title=\"Index: [3, 5]&#10;Color: (255, 255, 255)\" style=\"width: 30px; height: 30px;background-color: rgb(255, 255, 255);\"></td><td title=\"Index: [3, 6]&#10;Color: (255, 255, 255)\" style=\"width: 30px; height: 30px;background-color: rgb(255, 255, 255);\"></td><td title=\"Index: [3, 7]&#10;Color: (255, 255, 255)\" style=\"width: 30px; height: 30px;background-color: rgb(255, 255, 255);\"></td></tr><tr><td title=\"Index: [4, 0]&#10;Color: (255, 255, 255)\" style=\"width: 30px; height: 30px;background-color: rgb(255, 255, 255);\"></td><td title=\"Index: [4, 1]&#10;Color: (255, 255, 255)\" style=\"width: 30px; height: 30px;background-color: rgb(255, 255, 255);\"></td><td title=\"Index: [4, 2]&#10;Color: (255, 255, 255)\" style=\"width: 30px; height: 30px;background-color: rgb(255, 255, 255);\"></td><td title=\"Index: [4, 3]&#10;Color: (255, 255, 255)\" style=\"width: 30px; height: 30px;background-color: rgb(255, 255, 255);\"></td><td title=\"Index: [4, 4]&#10;Color: (255, 255, 255)\" style=\"width: 30px; height: 30px;background-color: rgb(255, 255, 255);\"></td><td title=\"Index: [4, 5]&#10;Color: (255, 255, 255)\" style=\"width: 30px; height: 30px;background-color: rgb(255, 255, 255);\"></td><td title=\"Index: [4, 6]&#10;Color: (255, 255, 255)\" style=\"width: 30px; height: 30px;background-color: rgb(255, 255, 255);\"></td><td title=\"Index: [4, 7]&#10;Color: (255, 255, 255)\" style=\"width: 30px; height: 30px;background-color: rgb(255, 255, 255);\"></td></tr><tr><td title=\"Index: [5, 0]&#10;Color: (255, 255, 255)\" style=\"width: 30px; height: 30px;background-color: rgb(255, 255, 255);\"></td><td title=\"Index: [5, 1]&#10;Color: (255, 255, 255)\" style=\"width: 30px; height: 30px;background-color: rgb(255, 255, 255);\"></td><td title=\"Index: [5, 2]&#10;Color: (255, 255, 255)\" style=\"width: 30px; height: 30px;background-color: rgb(255, 255, 255);\"></td><td title=\"Index: [5, 3]&#10;Color: (255, 255, 255)\" style=\"width: 30px; height: 30px;background-color: rgb(255, 255, 255);\"></td><td title=\"Index: [5, 4]&#10;Color: (255, 255, 255)\" style=\"width: 30px; height: 30px;background-color: rgb(255, 255, 255);\"></td><td title=\"Index: [5, 5]&#10;Color: (255, 255, 255)\" style=\"width: 30px; height: 30px;background-color: rgb(255, 255, 255);\"></td><td title=\"Index: [5, 6]&#10;Color: (255, 255, 255)\" style=\"width: 30px; height: 30px;background-color: rgb(255, 255, 255);\"></td><td title=\"Index: [5, 7]&#10;Color: (255, 255, 255)\" style=\"width: 30px; height: 30px;background-color: rgb(255, 255, 255);\"></td></tr><tr><td title=\"Index: [6, 0]&#10;Color: (255, 255, 255)\" style=\"width: 30px; height: 30px;background-color: rgb(255, 255, 255);\"></td><td title=\"Index: [6, 1]&#10;Color: (255, 255, 255)\" style=\"width: 30px; height: 30px;background-color: rgb(255, 255, 255);\"></td><td title=\"Index: [6, 2]&#10;Color: (255, 255, 255)\" style=\"width: 30px; height: 30px;background-color: rgb(255, 255, 255);\"></td><td title=\"Index: [6, 3]&#10;Color: (255, 255, 255)\" style=\"width: 30px; height: 30px;background-color: rgb(255, 255, 255);\"></td><td title=\"Index: [6, 4]&#10;Color: (255, 255, 255)\" style=\"width: 30px; height: 30px;background-color: rgb(255, 255, 255);\"></td><td title=\"Index: [6, 5]&#10;Color: (255, 255, 255)\" style=\"width: 30px; height: 30px;background-color: rgb(255, 255, 255);\"></td><td title=\"Index: [6, 6]&#10;Color: (255, 255, 255)\" style=\"width: 30px; height: 30px;background-color: rgb(255, 255, 255);\"></td><td title=\"Index: [6, 7]&#10;Color: (255, 255, 255)\" style=\"width: 30px; height: 30px;background-color: rgb(255, 255, 255);\"></td></tr><tr><td title=\"Index: [7, 0]&#10;Color: (255, 255, 255)\" style=\"width: 30px; height: 30px;background-color: rgb(255, 255, 255);\"></td><td title=\"Index: [7, 1]&#10;Color: (255, 255, 255)\" style=\"width: 30px; height: 30px;background-color: rgb(255, 255, 255);\"></td><td title=\"Index: [7, 2]&#10;Color: (255, 255, 255)\" style=\"width: 30px; height: 30px;background-color: rgb(255, 255, 255);\"></td><td title=\"Index: [7, 3]&#10;Color: (255, 255, 255)\" style=\"width: 30px; height: 30px;background-color: rgb(255, 255, 255);\"></td><td title=\"Index: [7, 4]&#10;Color: (255, 255, 255)\" style=\"width: 30px; height: 30px;background-color: rgb(255, 255, 255);\"></td><td title=\"Index: [7, 5]&#10;Color: (255, 255, 255)\" style=\"width: 30px; height: 30px;background-color: rgb(255, 255, 255);\"></td><td title=\"Index: [7, 6]&#10;Color: (255, 255, 255)\" style=\"width: 30px; height: 30px;background-color: rgb(255, 255, 255);\"></td><td title=\"Index: [7, 7]&#10;Color: (255, 255, 255)\" style=\"width: 30px; height: 30px;background-color: rgb(255, 255, 255);\"></td></tr></tbody></table>"
      ],
      "text/plain": [
       "<IPython.core.display.HTML object>"
      ]
     },
     "metadata": {},
     "output_type": "display_data"
    }
   ],
   "source": [
    "with mido.open_input(\"Launchpad Mini\") as inport, mido.open_output(\"Launchpad Mini\") as outport:\n",
    "\n",
    "    msg_reboot = mido.Message.from_bytes([0xB0, 0x00, 0x00])\n",
    "    g = BlockGrid(8, 8, fill=(255,255,255), block_size=30)\n",
    "    g.lines_on=True\n",
    "    outport.send(msg_reboot)\n",
    "\n",
    "    for i in range(20):\n",
    "        msg = inport.receive()\n",
    "        if msg.bytes()[2] is nota[\"enc\"]:\n",
    "            enc_boton(msg.note, color[\"VERD\"])\n",
    "            g[int(msg.note/16), int(msg.note%16)].green=200\n",
    "            g[int(msg.note/16), int(msg.note%16)].blue=0\n",
    "            clear_output()\n",
    "            g.show()\n",
    "            if int(msg.note/16) is 0:\n",
    "                vel = \"0\"\n",
    "            else:\n",
    "                vel = \"1\"\n",
    "            pos = str(25*(msg.note%8)).zfill(3)\n",
    "            mensaje = \"G\"+ vel + \" \" + pos\n",
    "            print(mensaje)\n",
    "            \n",
    "        if msg.bytes()[2] is nota[\"apa\"]:\n",
    "            apa_boton(msg.note)\n",
    "            g[int(msg.note/16), int(msg.note%16)].green=255\n",
    "            g[int(msg.note/16), int(msg.note%16)].blue=255\n",
    "            clear_output()\n",
    "            g.show()"
   ]
  },
  {
   "cell_type": "code",
   "execution_count": 10,
   "metadata": {},
   "outputs": [
    {
     "data": {
      "text/plain": [
       "'009'"
      ]
     },
     "execution_count": 10,
     "metadata": {},
     "output_type": "execute_result"
    }
   ],
   "source": [
    "\"9\".zfill(3)"
   ]
  },
  {
   "cell_type": "code",
   "execution_count": 33,
   "metadata": {},
   "outputs": [],
   "source": [
    "import serial"
   ]
  },
  {
   "cell_type": "code",
   "execution_count": null,
   "metadata": {},
   "outputs": [],
   "source": [
    "serial.Serial()"
   ]
  }
 ],
 "metadata": {
  "kernelspec": {
   "display_name": "Python 3",
   "language": "python",
   "name": "python3"
  },
  "language_info": {
   "codemirror_mode": {
    "name": "ipython",
    "version": 3
   },
   "file_extension": ".py",
   "mimetype": "text/x-python",
   "name": "python",
   "nbconvert_exporter": "python",
   "pygments_lexer": "ipython3",
   "version": "3.6.5"
  }
 },
 "nbformat": 4,
 "nbformat_minor": 2
}
